{
 "cells": [
  {
   "cell_type": "code",
   "execution_count": 24,
   "metadata": {},
   "outputs": [],
   "source": [
    "#Q1\n",
    "import numpy as np\n",
    "from scipy.spatial.distance import cdist\n",
    "from sklearn.metrics import mean_squared_error as mse\n",
    "\n",
    "def kmeans(X, k, dim):\n",
    "    Centers = np.random.random((k,dim)) * X.max()\n",
    "    Centers_2 = np.zeros((K, dim)) \n",
    "    imax = 100\n",
    "    i=0\n",
    "    \n",
    "    while (Centers != Centers_2).all() and i<imax:\n",
    "        Centers_2 = np.copy(Centers)\n",
    "        clusters = np.zeros((k,X.shape[0]))\n",
    "        dist_min = np.zeros((k,X.shape[0]))\n",
    "        clusters = cdist(Centers,X)\n",
    "        dist_min = np.argmin(clusters,0)\n",
    "        Centers = np.array([np.mean(X[dist_min == j, :],0) for j in range(k)])\n",
    "        i += 1\n",
    "\n",
    "    if (Centers != Centers_2).all() and i>=imax:\n",
    "        Centers = data[:k,:dim]\n",
    "       \n",
    "    return Centers, dist_min"
   ]
  },
  {
   "cell_type": "code",
   "execution_count": 27,
   "metadata": {},
   "outputs": [
    {
     "name": "stdout",
     "output_type": "stream",
     "text": [
      "Prueba con las dos primeras dimensiones del dataset iris\n",
      "\n",
      "Centroides: \n",
      "[[ 5.1  3.5]\n",
      " [ 4.9  3. ]\n",
      " [ 4.7  3.2]]\n",
      "\n",
      "MSE: 0.880333333333\n",
      "El MSE del cluster 1 es: 0.880333333333\n",
      "Prueba con 4 dimensiones del dataset iris\n",
      "\n",
      "Centroides: \n",
      "[[ 5.1  3.5  1.4  0.2]\n",
      " [ 4.9  3.   1.4  0.2]\n",
      " [ 4.7  3.2  1.3  0.2]]\n",
      "\n",
      "El MSE global es: 2.99806666667\n",
      "El MSE del cluster 1 es: 2.99806666667\n"
     ]
    }
   ],
   "source": [
    "#Q2\n",
    "k = 3\n",
    "data = np.loadtxt(\"iris.data\",delimiter = ',',usecols=range(0,2))\n",
    "print \"Prueba con las dos primeras dimensiones del dataset iris\"\n",
    "print \"\"\n",
    "\n",
    "dim = 2\n",
    "X = data[:,:dim]\n",
    "Cent,dist_min = kmeans(X, k, dim)\n",
    "print \"Centroides: \"\n",
    "print Cent\n",
    "print \"\"\n",
    "\n",
    "y_pred = np.array([Cent[dist_min[i],:] for i in range(data.shape[0])]) \n",
    "\n",
    "print \"MSE:\", mse(X,y_pred)\n",
    "\n",
    "\n",
    "for y in range(k):\n",
    "    \n",
    "    if X[dist_min==y,:].any():\n",
    "        print \"El MSE del cluster\", y, \"es:\", mse(X[dist_min==y,:],y_pred[dist_min == y,:])\n",
    "\n",
    "data = np.loadtxt(\"iris.data\",delimiter = ',',usecols=range(0,4))\n",
    "print \"Prueba con 4 dimensiones del dataset iris\"\n",
    "print \"\"\n",
    "\n",
    "dim = 4\n",
    "X = data[:,:dim]\n",
    "Cent, dist_min = kmeans(X, k, dim)\n",
    "print \"Centroides: \"\n",
    "print Cent\n",
    "print \"\"\n",
    "\n",
    "y_pred = np.array([Cent[dist_min[i],:] for i in range(data.shape[0])]) \n",
    "\n",
    "print \"El MSE global es:\", mse(X,y_pred)\n",
    "\n",
    "for y in range(k):\n",
    "    \n",
    "    if X[dist_min==y,:].any():\n",
    "        print \"El MSE del cluster\", y, \"es:\", mse(X[dist_min==y,:],y_pred[dist_min == y,:])\n"
   ]
  },
  {
   "cell_type": "code",
   "execution_count": null,
   "metadata": {},
   "outputs": [],
   "source": []
  }
 ],
 "metadata": {
  "kernelspec": {
   "display_name": "Python 2",
   "language": "python",
   "name": "python2"
  },
  "language_info": {
   "codemirror_mode": {
    "name": "ipython",
    "version": 2
   },
   "file_extension": ".py",
   "mimetype": "text/x-python",
   "name": "python",
   "nbconvert_exporter": "python",
   "pygments_lexer": "ipython2",
   "version": "2.7.15rc1"
  }
 },
 "nbformat": 4,
 "nbformat_minor": 2
}
